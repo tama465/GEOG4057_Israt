{
 "cells": [
  {
   "cell_type": "code",
   "execution_count": 1,
   "metadata": {},
   "outputs": [
    {
     "data": {
      "text/html": [
       "<div class='gpresult'><h2>Messages</h2><div id='messages' data-messages='[\"Start Time: Tuesday, September 17, 2024 10:38:02 PM\",\"WARNING 000635: Skipping feature 149 because of NULL or EMPTY geometry.\",\"WARNING 000635: Skipping feature 174 because of NULL or EMPTY geometry.\",\"WARNING 000635: Skipping feature 263 because of NULL or EMPTY geometry.\",\"WARNING 000635: Skipping feature 277 because of NULL or EMPTY geometry.\",\"WARNING 000635: Skipping feature 280 because of NULL or EMPTY geometry.\",\"WARNING 000635: Skipping feature 283 because of NULL or EMPTY geometry.\",\"WARNING 000635: Skipping feature 284 because of NULL or EMPTY geometry.\",\"WARNING 000635: Skipping feature 295 because of NULL or EMPTY geometry.\",\"WARNING 000635: Skipping feature 296 because of NULL or EMPTY geometry.\",\"WARNING 000635: Skipping feature 302 because of NULL or EMPTY geometry.\",\"WARNING 000635: Skipping feature 303 because of NULL or EMPTY geometry.\",\"WARNING 000635: Skipping feature 346 because of NULL or EMPTY geometry.\",\"WARNING 000635: Skipping feature 443 because of NULL or EMPTY geometry.\",\"WARNING 000635: Skipping feature 821 because of NULL or EMPTY geometry.\",\"WARNING 000635: Skipping feature 830 because of NULL or EMPTY geometry.\",\"WARNING 000635: Skipping feature 831 because of NULL or EMPTY geometry.\",\"WARNING 000635: Skipping feature 836 because of NULL or EMPTY geometry.\",\"WARNING 000635: Skipping feature 840 because of NULL or EMPTY geometry.\",\"WARNING 000635: Skipping feature 841 because of NULL or EMPTY geometry.\",\"WARNING 000635: Skipping feature 845 because of NULL or EMPTY geometry.\",\"WARNING 000635: Skipping feature 856 because of NULL or EMPTY geometry.\",\"WARNING 000635: Skipping feature 859 because of NULL or EMPTY geometry.\",\"WARNING 000635: Skipping feature 871 because of NULL or EMPTY geometry.\",\"WARNING 000635: Skipping feature 889 because of NULL or EMPTY geometry.\",\"WARNING 000635: Skipping feature 890 because of NULL or EMPTY geometry.\",\"WARNING 000635: Skipping feature 893 because of NULL or EMPTY geometry.\",\"WARNING 000635: Skipping feature 899 because of NULL or EMPTY geometry.\",\"WARNING 000635: Skipping feature 903 because of NULL or EMPTY geometry.\",\"WARNING 000635: Skipping feature 908 because of NULL or EMPTY geometry.\",\"WARNING 000635: Skipping feature 912 because of NULL or EMPTY geometry.\",\"WARNING 000635: Skipping feature 944 because of NULL or EMPTY geometry.\",\"WARNING 000635: Skipping feature 987 because of NULL or EMPTY geometry.\",\"WARNING 000635: Skipping feature 1002 because of NULL or EMPTY geometry.\",\"WARNING 000635: Skipping feature 1027 because of NULL or EMPTY geometry.\",\"WARNING 000635: Skipping feature 1032 because of NULL or EMPTY geometry.\",\"WARNING 000635: Skipping feature 1046 because of NULL or EMPTY geometry.\",\"WARNING 000635: Skipping feature 1050 because of NULL or EMPTY geometry.\",\"WARNING 000635: Skipping feature 1057 because of NULL or EMPTY geometry.\",\"WARNING 000635: Skipping feature 1059 because of NULL or EMPTY geometry.\",\"WARNING 000635: Skipping feature 1060 because of NULL or EMPTY geometry.\",\"WARNING 000635: Skipping feature 1061 because of NULL or EMPTY geometry.\",\"WARNING 000635: Skipping feature 1062 because of NULL or EMPTY geometry.\",\"WARNING 000635: Skipping feature 1072 because of NULL or EMPTY geometry.\",\"WARNING 000635: Skipping feature 1095 because of NULL or EMPTY geometry.\",\"WARNING 000635: Skipping feature 1116 because of NULL or EMPTY geometry.\",\"WARNING 000635: Skipping feature 1133 because of NULL or EMPTY geometry.\",\"WARNING 000635: Skipping feature 1331 because of NULL or EMPTY geometry.\",\"WARNING 000635: Skipping feature 1340 because of NULL or EMPTY geometry.\",\"WARNING 000635: Skipping feature 1347 because of NULL or EMPTY geometry.\",\"WARNING 000635: Skipping feature 1350 because of NULL or EMPTY geometry.\",\"WARNING 000635: Skipping feature 1351 because of NULL or EMPTY geometry.\",\"WARNING 000635: Skipping feature 1352 because of NULL or EMPTY geometry.\",\"WARNING 000635: Skipping feature 1353 because of NULL or EMPTY geometry.\",\"WARNING 000635: Skipping feature 1354 because of NULL or EMPTY geometry.\",\"WARNING 000635: Skipping feature 1355 because of NULL or EMPTY geometry.\",\"WARNING 000635: Skipping feature 1356 because of NULL or EMPTY geometry.\",\"WARNING 000635: Skipping feature 1357 because of NULL or EMPTY geometry.\",\"WARNING 000635: Skipping feature 1358 because of NULL or EMPTY geometry.\",\"WARNING 000635: Skipping feature 1359 because of NULL or EMPTY geometry.\",\"WARNING 000635: Skipping feature 1362 because of NULL or EMPTY geometry.\",\"WARNING 000635: Skipping feature 1369 because of NULL or EMPTY geometry.\",\"WARNING 000635: Skipping feature 1373 because of NULL or EMPTY geometry.\",\"WARNING 000635: Skipping feature 1375 because of NULL or EMPTY geometry.\",\"WARNING 000635: Skipping feature 1382 because of NULL or EMPTY geometry.\",\"WARNING 000635: Skipping feature 1446 because of NULL or EMPTY geometry.\",\"WARNING 000635: Skipping feature 1447 because of NULL or EMPTY geometry.\",\"WARNING 000635: Skipping feature 1553 because of NULL or EMPTY geometry.\",\"WARNING 000635: Skipping feature 1557 because of NULL or EMPTY geometry.\",\"WARNING 000635: Skipping feature 1563 because of NULL or EMPTY geometry.\",\"Succeeded at Tuesday, September 17, 2024 10:38:03 PM (Elapsed Time: 0.47 seconds)\"]' data-show='true'><div id = 'default' /></div></div>"
      ],
      "text/plain": [
       "<Result '.\\\\retail_buffer1.shp'>"
      ]
     },
     "execution_count": 1,
     "metadata": {},
     "output_type": "execute_result"
    }
   ],
   "source": [
    "import arcpy\n",
    "arcpy.analysis.Buffer(\n",
    "    in_features=\"no_retail.shp\",\n",
    "    out_feature_class=\"./retail_buffer1.shp\",\n",
    "    buffer_distance_or_field=\"500 Meters\",\n",
    "    line_side=\"FULL\",\n",
    "    line_end_type=\"ROUND\",\n",
    "    dissolve_option=\"NONE\",\n",
    "    dissolve_field=None,\n",
    "    method=\"PLANAR\"\n",
    ")"
   ]
  }
 ],
 "metadata": {
  "kernelspec": {
   "display_name": "ArcpyClone",
   "language": "python",
   "name": "arcpyclone"
  },
  "language_info": {
   "codemirror_mode": {
    "name": "ipython",
    "version": 3
   },
   "file_extension": ".py",
   "mimetype": "text/x-python",
   "name": "python",
   "nbconvert_exporter": "python",
   "pygments_lexer": "ipython3",
   "version": "3.9.11"
  }
 },
 "nbformat": 4,
 "nbformat_minor": 2
}
